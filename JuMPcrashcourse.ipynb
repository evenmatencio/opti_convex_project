{
 "cells": [
  {
   "cell_type": "markdown",
   "metadata": {
    "toc": true
   },
   "source": [
    "<h1>Table of Contents<span class=\"tocSkip\"></span></h1>\n",
    "<div class=\"toc\"><ul class=\"toc-item\"><li><span><a href=\"#Qu'est-ce-qu'un-Jupyter-notebook-?\" data-toc-modified-id=\"Qu'est-ce-qu'un-Jupyter-notebook-?-1\"><span class=\"toc-item-num\">1&nbsp;&nbsp;</span>Qu'est-ce qu'un Jupyter notebook ?</a></span></li><li><span><a href=\"#Qu'est-ce-que-Julia-?\" data-toc-modified-id=\"Qu'est-ce-que-Julia-?-2\"><span class=\"toc-item-num\">2&nbsp;&nbsp;</span>Qu'est-ce que Julia ?</a></span></li><li><span><a href=\"#Qu'est-ce-que-JuMP-?\" data-toc-modified-id=\"Qu'est-ce-que-JuMP-?-3\"><span class=\"toc-item-num\">3&nbsp;&nbsp;</span>Qu'est-ce que JuMP ?</a></span><ul class=\"toc-item\"><li><span><a href=\"#Mise-en-place\" data-toc-modified-id=\"Mise-en-place-3.1\"><span class=\"toc-item-num\">3.1&nbsp;&nbsp;</span>Mise en place</a></span></li></ul></li><li><span><a href=\"#Construction-d'un-premier-problème-linéaire\" data-toc-modified-id=\"Construction-d'un-premier-problème-linéaire-4\"><span class=\"toc-item-num\">4&nbsp;&nbsp;</span>Construction d'un premier problème linéaire</a></span><ul class=\"toc-item\"><li><span><a href=\"#Un-second-problème-linéaire\" data-toc-modified-id=\"Un-second-problème-linéaire-4.1\"><span class=\"toc-item-num\">4.1&nbsp;&nbsp;</span>Un second problème linéaire</a></span></li><li><span><a href=\"#Un-problème-non-linéaire\" data-toc-modified-id=\"Un-problème-non-linéaire-4.2\"><span class=\"toc-item-num\">4.2&nbsp;&nbsp;</span>Un problème non-linéaire</a></span></li></ul></li></ul></div>"
   ]
  },
  {
   "cell_type": "markdown",
   "metadata": {},
   "source": [
    "# Une prise en main rapide de Jupyter / Julia / JuMP\n",
    "\n",
    "## Qu'est-ce qu'un Jupyter notebook ?\n",
    "\n",
    "Un Jupyter notebook est un document qui contient \n",
    "+ du texte \n",
    "  - que l'on peut formatter à l'aide de Markdown\n",
    "  - qui peut contenir des maths à l'aide de $\\LaTeX$\n",
    "+ du code\n",
    "  - avec lequel on peut intéragir en ligne\n",
    "  \n",
    "Un notebook est une succession de cellule, chacune pouvant être soit du code, soit du texte.\n",
    "Quelques astuces :\n",
    "+ double-clicker pour voir le contenu et modifier une cellule\n",
    "+ M / Y pour changer le type de cellule\n",
    "+ Ctrl-enter pour éxecuter la cellule\n",
    "+ shift-enter pour éxecuter la cellule et passer à la suivante\n",
    "+ Alt-enter pour éxecuter la cellule et en ajouter une nouvelle\n",
    "\n",
    "Vous pouvez télécharger le fichier .ipynb via l'onglet \"file\" en haut à gauche. Vous pouvez aussi télécharger un pdf."
   ]
  },
  {
   "cell_type": "markdown",
   "metadata": {},
   "source": [
    "## Qu'est-ce que Julia ?\n",
    "\n",
    "Julia est un langage de programmation, comparable à Python. C'est un langage récent, développé pour le calcul scientifique. \n",
    "\n",
    "Quelques éléments intéressant :\n",
    "+ langage open-source\n",
    "+ langage compilé \"Just-in-time\"\n",
    "+ langage disposant d'un terminal (comme python)\n",
    "+ ...\n",
    "\n",
    "Faisons nos premiers pas avec Julia. Exécuter les cellules suivantes (shift-enter), n'hésitez pas à modifier pour prendre en main :"
   ]
  },
  {
   "cell_type": "code",
   "execution_count": 34,
   "metadata": {},
   "outputs": [
    {
     "data": {
      "text/plain": [
       "2"
      ]
     },
     "execution_count": 34,
     "metadata": {},
     "output_type": "execute_result"
    }
   ],
   "source": [
    "1+1"
   ]
  },
  {
   "cell_type": "code",
   "execution_count": 35,
   "metadata": {},
   "outputs": [
    {
     "data": {
      "text/plain": [
       "0"
      ]
     },
     "execution_count": 35,
     "metadata": {},
     "output_type": "execute_result"
    }
   ],
   "source": [
    "a = [0 5 10 15]\n",
    "a[1]"
   ]
  },
  {
   "cell_type": "code",
   "execution_count": 36,
   "metadata": {},
   "outputs": [
    {
     "data": {
      "text/plain": [
       "30"
      ]
     },
     "execution_count": 36,
     "metadata": {},
     "output_type": "execute_result"
    }
   ],
   "source": [
    "sum(a)"
   ]
  },
  {
   "cell_type": "code",
   "execution_count": 37,
   "metadata": {},
   "outputs": [
    {
     "data": {
      "text/plain": [
       "350"
      ]
     },
     "execution_count": 37,
     "metadata": {},
     "output_type": "execute_result"
    }
   ],
   "source": [
    "sum(x^2 for x in a)"
   ]
  },
  {
   "cell_type": "code",
   "execution_count": 38,
   "metadata": {},
   "outputs": [
    {
     "data": {
      "text/plain": [
       "4"
      ]
     },
     "execution_count": 38,
     "metadata": {},
     "output_type": "execute_result"
    }
   ],
   "source": [
    "length(a)"
   ]
  },
  {
   "cell_type": "code",
   "execution_count": 39,
   "metadata": {},
   "outputs": [
    {
     "data": {
      "text/plain": [
       "1×4 Matrix{Float64}:\n",
       " 1.0  143.413  22016.5  3.269e6"
      ]
     },
     "execution_count": 39,
     "metadata": {},
     "output_type": "execute_result"
    }
   ],
   "source": [
    "exp.(a) .- a #to apply an operation or function componentwise just add .  "
   ]
  },
  {
   "cell_type": "code",
   "execution_count": 40,
   "metadata": {},
   "outputs": [
    {
     "data": {
      "text/latex": [
       "\\begin{verbatim}\n",
       "exp(x)\n",
       "\\end{verbatim}\n",
       "Compute the natural base exponential of \\texttt{x}, in other words $ℯ^x$.\n",
       "\n",
       "See also \\href{@ref}{\\texttt{exp2}}, \\href{@ref}{\\texttt{exp10}} and \\href{@ref}{\\texttt{cis}}.\n",
       "\n",
       "\\section{Examples}\n",
       "\\begin{verbatim}\n",
       "julia> exp(1.0)\n",
       "2.718281828459045\n",
       "\n",
       "julia> exp(im * pi) == cis(pi)\n",
       "true\n",
       "\\end{verbatim}\n",
       "\\begin{verbatim}\n",
       "exp(A::AbstractMatrix)\n",
       "\\end{verbatim}\n",
       "Compute the matrix exponential of \\texttt{A}, defined by\n",
       "\n",
       "$$e^A = \\sum_{n=0}^{\\infty} \\frac{A^n}{n!}.$$\n",
       "For symmetric or Hermitian \\texttt{A}, an eigendecomposition (\\href{@ref}{\\texttt{eigen}}) is used, otherwise the scaling and squaring algorithm (see \\footnotemark[H05]) is chosen.\n",
       "\n",
       "\\footnotetext[H05]{Nicholas J. Higham, \"The squaring and scaling method for the matrix exponential revisited\", SIAM Journal on Matrix Analysis and Applications, 26(4), 2005, 1179-1193. \\href{https://doi.org/10.1137/090768539}{doi:10.1137/090768539}\n",
       "\n",
       "}\n",
       "\\section{Examples}\n",
       "\\begin{verbatim}\n",
       "julia> A = Matrix(1.0I, 2, 2)\n",
       "2×2 Matrix{Float64}:\n",
       " 1.0  0.0\n",
       " 0.0  1.0\n",
       "\n",
       "julia> exp(A)\n",
       "2×2 Matrix{Float64}:\n",
       " 2.71828  0.0\n",
       " 0.0      2.71828\n",
       "\\end{verbatim}\n"
      ],
      "text/markdown": [
       "```\n",
       "exp(x)\n",
       "```\n",
       "\n",
       "Compute the natural base exponential of `x`, in other words $ℯ^x$.\n",
       "\n",
       "See also [`exp2`](@ref), [`exp10`](@ref) and [`cis`](@ref).\n",
       "\n",
       "# Examples\n",
       "\n",
       "```jldoctest\n",
       "julia> exp(1.0)\n",
       "2.718281828459045\n",
       "\n",
       "julia> exp(im * pi) == cis(pi)\n",
       "true\n",
       "```\n",
       "\n",
       "```\n",
       "exp(A::AbstractMatrix)\n",
       "```\n",
       "\n",
       "Compute the matrix exponential of `A`, defined by\n",
       "\n",
       "$$\n",
       "e^A = \\sum_{n=0}^{\\infty} \\frac{A^n}{n!}.\n",
       "$$\n",
       "\n",
       "For symmetric or Hermitian `A`, an eigendecomposition ([`eigen`](@ref)) is used, otherwise the scaling and squaring algorithm (see [^H05]) is chosen.\n",
       "\n",
       "[^H05]: Nicholas J. Higham, \"The squaring and scaling method for the matrix exponential revisited\", SIAM Journal on Matrix Analysis and Applications, 26(4), 2005, 1179-1193. [doi:10.1137/090768539](https://doi.org/10.1137/090768539)\n",
       "\n",
       "# Examples\n",
       "\n",
       "```jldoctest\n",
       "julia> A = Matrix(1.0I, 2, 2)\n",
       "2×2 Matrix{Float64}:\n",
       " 1.0  0.0\n",
       " 0.0  1.0\n",
       "\n",
       "julia> exp(A)\n",
       "2×2 Matrix{Float64}:\n",
       " 2.71828  0.0\n",
       " 0.0      2.71828\n",
       "```\n"
      ],
      "text/plain": [
       "\u001b[36m  exp(x)\u001b[39m\n",
       "\n",
       "  Compute the natural base exponential of \u001b[36mx\u001b[39m, in other words \u001b[35mℯ^x\u001b[39m.\n",
       "\n",
       "  See also \u001b[36mexp2\u001b[39m, \u001b[36mexp10\u001b[39m and \u001b[36mcis\u001b[39m.\n",
       "\n",
       "\u001b[1m  Examples\u001b[22m\n",
       "\u001b[1m  ≡≡≡≡≡≡≡≡≡≡\u001b[22m\n",
       "\n",
       "\u001b[36m  julia> exp(1.0)\u001b[39m\n",
       "\u001b[36m  2.718281828459045\u001b[39m\n",
       "\u001b[36m  \u001b[39m\n",
       "\u001b[36m  julia> exp(im * pi) == cis(pi)\u001b[39m\n",
       "\u001b[36m  true\u001b[39m\n",
       "\n",
       "\u001b[36m  exp(A::AbstractMatrix)\u001b[39m\n",
       "\n",
       "  Compute the matrix exponential of \u001b[36mA\u001b[39m, defined by\n",
       "\n",
       "\u001b[35m  e^A = \\sum_{n=0}^{\\infty} \\frac{A^n}{n!}.\u001b[39m\n",
       "\n",
       "  For symmetric or Hermitian \u001b[36mA\u001b[39m, an eigendecomposition (\u001b[36meigen\u001b[39m) is used,\n",
       "  otherwise the scaling and squaring algorithm (see \u001b[1m[^H05]\u001b[22m) is chosen.\n",
       "\n",
       "  │ \u001b[0m\u001b[1m[^H05]\u001b[22m\n",
       "  │\n",
       "  │  Nicholas J. Higham, \"The squaring and scaling method for the\n",
       "  │  matrix exponential revisited\", SIAM Journal on Matrix Analysis and\n",
       "  │  Applications, 26(4), 2005, 1179-1193. doi:10.1137/090768539\n",
       "  │  (https://doi.org/10.1137/090768539)\n",
       "\n",
       "\u001b[1m  Examples\u001b[22m\n",
       "\u001b[1m  ≡≡≡≡≡≡≡≡≡≡\u001b[22m\n",
       "\n",
       "\u001b[36m  julia> A = Matrix(1.0I, 2, 2)\u001b[39m\n",
       "\u001b[36m  2×2 Matrix{Float64}:\u001b[39m\n",
       "\u001b[36m   1.0  0.0\u001b[39m\n",
       "\u001b[36m   0.0  1.0\u001b[39m\n",
       "\u001b[36m  \u001b[39m\n",
       "\u001b[36m  julia> exp(A)\u001b[39m\n",
       "\u001b[36m  2×2 Matrix{Float64}:\u001b[39m\n",
       "\u001b[36m   2.71828  0.0\u001b[39m\n",
       "\u001b[36m   0.0      2.71828\u001b[39m"
      ]
     },
     "execution_count": 40,
     "metadata": {},
     "output_type": "execute_result"
    }
   ],
   "source": [
    "@doc exp # to get documentation on a function"
   ]
  },
  {
   "cell_type": "code",
   "execution_count": 41,
   "metadata": {},
   "outputs": [
    {
     "name": "stdout",
     "output_type": "stream",
     "text": [
      "itération 1\n",
      "itération 2\n",
      "itération 3\n",
      "itération 4\n",
      "itération 5\n"
     ]
    }
   ],
   "source": [
    "for i = 1:5\n",
    "    println(\"itération \",i)\n",
    "end"
   ]
  },
  {
   "cell_type": "code",
   "execution_count": 42,
   "metadata": {},
   "outputs": [
    {
     "data": {
      "text/plain": [
       "factorielle (generic function with 1 method)"
      ]
     },
     "execution_count": 42,
     "metadata": {},
     "output_type": "execute_result"
    }
   ],
   "source": [
    "function factorielle(n)\n",
    "    if n == 0\n",
    "        return 1\n",
    "    end\n",
    "    res = 1\n",
    "    for i=1:n\n",
    "        res = res * i\n",
    "    end\n",
    "    return res\n",
    "end"
   ]
  },
  {
   "cell_type": "code",
   "execution_count": 43,
   "metadata": {},
   "outputs": [
    {
     "data": {
      "text/plain": [
       "120"
      ]
     },
     "execution_count": 43,
     "metadata": {},
     "output_type": "execute_result"
    }
   ],
   "source": [
    "factorielle(5)"
   ]
  },
  {
   "cell_type": "code",
   "execution_count": 44,
   "metadata": {},
   "outputs": [
    {
     "data": {
      "text/plain": [
       "1.9"
      ]
     },
     "execution_count": 44,
     "metadata": {},
     "output_type": "execute_result"
    }
   ],
   "source": [
    "round(1.9453;sigdigits=2)"
   ]
  },
  {
   "cell_type": "code",
   "execution_count": 45,
   "metadata": {},
   "outputs": [
    {
     "data": {
      "text/plain": [
       "3-element Vector{Float64}:\n",
       " 0.9948378958447538\n",
       " 0.47880258058121783\n",
       " 0.6075806321198127"
      ]
     },
     "execution_count": 45,
     "metadata": {},
     "output_type": "execute_result"
    }
   ],
   "source": [
    "rand(3)"
   ]
  },
  {
   "cell_type": "markdown",
   "metadata": {},
   "source": [
    "Further info can be found [here](https://learnxinyminutes.com/docs/julia/) or in the [documentation](https://docs.julialang.org/en/v1/)"
   ]
  },
  {
   "cell_type": "markdown",
   "metadata": {},
   "source": [
    "\n",
    "\n",
    "## Qu'est-ce que JuMP ?\n",
    "\n",
    "JuMP est l'un des packages phare de Julia.\n",
    "\n",
    "Il s'agit d'un package de modélisation, qui permet d'écrire un problème d'optimisation de manière simple puis de demander à un Solver de le résoudre.\n",
    "\n",
    "Nous allons maintenant faire nos premiers pas avec JuMP.\n",
    "\n",
    "Plus d'information sur http://www.juliaopt.org/JuMP.jl/v0.20.0/quickstart/ "
   ]
  },
  {
   "cell_type": "markdown",
   "metadata": {},
   "source": [
    "### Mise en place\n",
    "\n",
    "Avant toute chose il faut installer puis appeler les bibliothèques utiles. \n"
   ]
  },
  {
   "cell_type": "code",
   "execution_count": 46,
   "metadata": {
    "scrolled": true
   },
   "outputs": [],
   "source": [
    "import Pkg\n",
    "#= \n",
    "Cette cellule peu prendre du temps à s'executer.\n",
    "Pkg.add(\"GLPK\")\n",
    "Pkg.add(\"Ipopt\")\n",
    "Pkg.add(\"JuMP\")\n",
    "=#"
   ]
  },
  {
   "cell_type": "markdown",
   "metadata": {},
   "source": [
    "On peut faire la liste des packages installés et leur version en executant la commande suivante."
   ]
  },
  {
   "cell_type": "code",
   "execution_count": 47,
   "metadata": {},
   "outputs": [
    {
     "name": "stdout",
     "output_type": "stream",
     "text": [
      "\u001b[32m\u001b[1m      Status\u001b[22m\u001b[39m `C:\\Users\\maten\\.julia\\environments\\v1.7\\Project.toml`\n",
      " \u001b[90m [a93c6f00] \u001b[39mDataFrames v1.3.3\n",
      " \u001b[90m [60bf3e95] \u001b[39mGLPK v1.0.1\n",
      " \u001b[90m [7073ff75] \u001b[39mIJulia v1.23.3\n",
      " \u001b[90m [b6b21f68] \u001b[39mIpopt v1.0.2\n",
      " \u001b[90m [4076af6c] \u001b[39mJuMP v1.0.0\n"
     ]
    }
   ],
   "source": [
    "Pkg.status()"
   ]
  },
  {
   "cell_type": "markdown",
   "metadata": {},
   "source": [
    "Nous allons maintenant dire que nous souhaitons utiliser ces packages (comparable à \"from packet import *\" en python) \n",
    "\n",
    "[Cette commande peut prendre du temps]"
   ]
  },
  {
   "cell_type": "code",
   "execution_count": 48,
   "metadata": {},
   "outputs": [],
   "source": [
    "using GLPK \n",
    "using Ipopt\n",
    "using JuMP\n",
    "# cette cellule peut prendre du temps à s'éxécuter."
   ]
  },
  {
   "cell_type": "markdown",
   "metadata": {},
   "source": [
    "\n",
    "## Construction d'un premier problème linéaire\n",
    "\n",
    "Nous souhaitons résoudre le problème linéaire suivant\n",
    "$$ \\begin{align*} \n",
    "\\min_{x,y} \\quad & 2x+3y \\\\\n",
    "s.c. \\quad & x+y \\geq 1 \\\\\n",
    "& x \\geq 0, y\\geq 0 \\\\\n",
    "\\end{align*}$$\n",
    "\n",
    "Commençons par construire le problème"
   ]
  },
  {
   "cell_type": "code",
   "execution_count": 49,
   "metadata": {},
   "outputs": [
    {
     "data": {
      "text/latex": [
       "$$ x + y \\geq 1.0 $$"
      ],
      "text/plain": [
       "x + y >= 1.0"
      ]
     },
     "execution_count": 49,
     "metadata": {},
     "output_type": "execute_result"
    }
   ],
   "source": [
    "OPTIMIZER = GLPK.Optimizer              # On définit un optimizer\n",
    "m = Model(OPTIMIZER)       # On construit un problème d'optimisation\n",
    "\n",
    "@variable(m,x>=0)                       # x est une variable réelle positive de m\n",
    "@variable(m,y>=0)                       # y est une variable réelle positive de m\n",
    "\n",
    "### Remarque les fonctions @variable / @objective / @constraint sont des fonctions spécifiques (des macros) \n",
    "# qui autorise de donner un argument comme 2*x+3*y sans qu'il soit évalué. \n",
    "# Ce n'est pas un comportement générique des fonctions julia.\n",
    "\n",
    "@objective(m,Min, 2*x+3*y)              # l'objectif de m est de Minimiser 2*x+3*y\n",
    "\n",
    "@constraint(m,x+y >= 1 )                # m a pour contrainte x+y <=1"
   ]
  },
  {
   "cell_type": "markdown",
   "metadata": {},
   "source": [
    "On peut vérifier que m est bien ce que l'on souhaite"
   ]
  },
  {
   "cell_type": "code",
   "execution_count": 50,
   "metadata": {},
   "outputs": [
    {
     "data": {
      "text/latex": [
       "$$ \\begin{aligned}\n",
       "\\min\\quad & 2 x + 3 y\\\\\n",
       "\\text{Subject to} \\quad & x + y \\geq 1.0\\\\\n",
       " & x \\geq 0.0\\\\\n",
       " & y \\geq 0.0\\\\\n",
       "\\end{aligned} $$"
      ]
     },
     "metadata": {},
     "output_type": "display_data"
    }
   ],
   "source": [
    "print(m)"
   ]
  },
  {
   "cell_type": "markdown",
   "metadata": {},
   "source": [
    "On peut également résoudre m"
   ]
  },
  {
   "cell_type": "code",
   "execution_count": 51,
   "metadata": {},
   "outputs": [
    {
     "name": "stdout",
     "output_type": "stream",
     "text": [
      "OPTIMAL\n",
      "FEASIBLE_POINT\n",
      "FEASIBLE_POINT\n"
     ]
    }
   ],
   "source": [
    "optimize!(m)\n",
    "println(termination_status(m))\n",
    "println(primal_status(m))\n",
    "println(dual_status(m))"
   ]
  },
  {
   "cell_type": "markdown",
   "metadata": {},
   "source": [
    "Et si on souhaite connaître la valeur optimale du problème ou des solutions optimales on peut les avoir de la manière suivante"
   ]
  },
  {
   "cell_type": "code",
   "execution_count": 52,
   "metadata": {},
   "outputs": [
    {
     "name": "stdout",
     "output_type": "stream",
     "text": [
      "2.0\n",
      "x = 1.0\n",
      "y = 0.0\n"
     ]
    }
   ],
   "source": [
    "println(JuMP.objective_value(m))\n",
    "println(\"x = \",JuMP.value(x))\n",
    "println(\"y = \",JuMP.value(y))"
   ]
  },
  {
   "cell_type": "markdown",
   "metadata": {},
   "source": [
    "### Un second problème linéaire\n",
    "\n",
    "Nous allons maintenant construire un problème linéaire plus complexe.\n",
    "$$\n",
    "\\begin{align*}\n",
    "\\min_{x\\in R^n} \\quad & \\sum_{i=1}^n c_i x_i \\\\\n",
    "s.c. \\quad & \\sum_{i=1}^n x_i \\geq n \\\\\n",
    "&  -1 \\leq x_i \\leq 2 & \\forall i\n",
    "\\end{align*}\n",
    "$$"
   ]
  },
  {
   "cell_type": "code",
   "execution_count": 53,
   "metadata": {},
   "outputs": [
    {
     "data": {
      "text/latex": [
       "$$ \\begin{aligned}\n",
       "\\min\\quad & 0.9014431787934336 x_{1} + 0.471206294645812 x_{2} + 0.8531198889011689 x_{3} + 0.16305322343329653 x_{4} + 0.7801271218095958 x_{5} + 0.570922455948898 x_{6} + 0.558832755215643 x_{7} + 0.3568503013709493 x_{8} + 0.052613746932565264 x_{9} + 0.3456836217165131 x_{10}\\\\\n",
       "\\text{Subject to} \\quad & x_{1} + x_{2} + x_{3} + x_{4} + x_{5} + x_{6} + x_{7} + x_{8} + x_{9} + x_{10} \\geq 10.0\\\\\n",
       " & x_{1} \\geq -1.0\\\\\n",
       " & x_{2} \\geq -1.0\\\\\n",
       " & x_{3} \\geq -1.0\\\\\n",
       " & x_{4} \\geq -1.0\\\\\n",
       " & x_{5} \\geq -1.0\\\\\n",
       " & x_{6} \\geq -1.0\\\\\n",
       " & x_{7} \\geq -1.0\\\\\n",
       " & x_{8} \\geq -1.0\\\\\n",
       " & x_{9} \\geq -1.0\\\\\n",
       " & x_{10} \\geq -1.0\\\\\n",
       " & x_{1} \\leq 2.0\\\\\n",
       " & x_{2} \\leq 2.0\\\\\n",
       " & x_{3} \\leq 2.0\\\\\n",
       " & x_{4} \\leq 2.0\\\\\n",
       " & x_{5} \\leq 2.0\\\\\n",
       " & x_{6} \\leq 2.0\\\\\n",
       " & x_{7} \\leq 2.0\\\\\n",
       " & x_{8} \\leq 2.0\\\\\n",
       " & x_{9} \\leq 2.0\\\\\n",
       " & x_{10} \\leq 2.0\\\\\n",
       "\\end{aligned} $$"
      ]
     },
     "metadata": {},
     "output_type": "display_data"
    }
   ],
   "source": [
    "m2 = Model(OPTIMIZER)\n",
    "n = 10                                    # on choisit n = 10, mais vous pouvez le modifier\n",
    "c = rand(n)                               # c est choisi ici de manière aléatoire                                              \n",
    "\n",
    "@variable(m2, -1<= x[1:n] <= 2)           # x est une variable de m2 contenant n éléments x[1], x[2],...,x[n] tous compris entre -1 et 2\n",
    "\n",
    "@objective(m2,Min, sum(c[i]*x[i] for i=1:n) )\n",
    "\n",
    "@constraint(m2,sum(x[i] for i=1:n) >= n)\n",
    "                        \n",
    "print(m2)            "
   ]
  },
  {
   "cell_type": "code",
   "execution_count": 54,
   "metadata": {},
   "outputs": [
    {
     "name": "stdout",
     "output_type": "stream",
     "text": [
      "OPTIMAL\n"
     ]
    }
   ],
   "source": [
    "optimize!(m2)\n",
    "println(termination_status(m2))"
   ]
  },
  {
   "cell_type": "code",
   "execution_count": 55,
   "metadata": {},
   "outputs": [
    {
     "data": {
      "text/plain": [
       "10-element Vector{Float64}:\n",
       " -1.0\n",
       "  2.0\n",
       " -1.0\n",
       "  2.0\n",
       " -1.0\n",
       "  1.0\n",
       "  2.0\n",
       "  2.0\n",
       "  2.0\n",
       "  2.0"
      ]
     },
     "execution_count": 55,
     "metadata": {},
     "output_type": "execute_result"
    }
   ],
   "source": [
    "value.(x)"
   ]
  },
  {
   "cell_type": "markdown",
   "metadata": {},
   "source": [
    "Ajoutons maintenant une série de contraintes de la forme\n",
    "$$ x_i + x_{i+1} \\leq 1, \\qquad \\forall i \\in 2, \\dots, n-1$$"
   ]
  },
  {
   "cell_type": "code",
   "execution_count": 59,
   "metadata": {},
   "outputs": [],
   "source": [
    "for i = 1 : n-1\n",
    "    @constraint(m2, x[i]+x[i+1] <= 1)\n",
    "end"
   ]
  },
  {
   "cell_type": "code",
   "execution_count": 61,
   "metadata": {},
   "outputs": [
    {
     "name": "stdout",
     "output_type": "stream",
     "text": [
      "INFEASIBLE\n"
     ]
    },
    {
     "data": {
      "text/plain": [
       "10-element Vector{Float64}:\n",
       "  3.0\n",
       " -2.0\n",
       "  3.0\n",
       "  2.0\n",
       "  0.0\n",
       "  1.0\n",
       "  0.0\n",
       "  2.0\n",
       " -1.0\n",
       "  2.0"
      ]
     },
     "execution_count": 61,
     "metadata": {},
     "output_type": "execute_result"
    }
   ],
   "source": [
    "optimize!(m2)\n",
    "println(termination_status(m2))\n",
    "value.(x)"
   ]
  },
  {
   "cell_type": "markdown",
   "metadata": {},
   "source": [
    "### Un problème non-linéaire\n",
    "\n",
    "Nous allons terminer avec un problème non-linéaire simple.\n",
    "\n",
    "$$\n",
    "\\begin{align*}\n",
    "\\min_{x \\in R^{n.m}} \\quad & \\sum_{i,j} x_{i,j}^2 \\\\\n",
    "s.c. \\quad & \\sum_{i=1}^n x_{i,j} = 1 & \\forall j \\in [m] \n",
    "\\end{align*}\n",
    "$$"
   ]
  },
  {
   "cell_type": "code",
   "execution_count": 62,
   "metadata": {},
   "outputs": [],
   "source": [
    "using Ipopt # Solveur de problèmes non-linéaires par point intérieur."
   ]
  },
  {
   "cell_type": "code",
   "execution_count": 63,
   "metadata": {},
   "outputs": [
    {
     "data": {
      "text/latex": [
       "$$ (x_{2,1} ^ {2.0} + x_{2,2} ^ {3.0}) - 1.0 \\leq 0 $$"
      ],
      "text/plain": [
       "(x[2,1] ^ 2.0 + x[2,2] ^ 3.0) - 1.0 <= 0"
      ]
     },
     "execution_count": 63,
     "metadata": {},
     "output_type": "execute_result"
    }
   ],
   "source": [
    "OPTIMIZER_NL = Ipopt.Optimizer\n",
    "\n",
    "m3 = Model(OPTIMIZER_NL)\n",
    "\n",
    "N,M = 5,7 \n",
    "\n",
    "@variable(m3, x[i=1:N, j=1:M])\n",
    "\n",
    "@objective(m3, Min, sum(x[i,j]^2 for i=1:N, j=1:M))\n",
    "\n",
    "for j=1:M\n",
    "    @constraint(m3, sum(x[i,j] for i =1:N)==1)\n",
    "end\n",
    "\n",
    "@constraint(m3, x[1,1]^2+x[1,2]^2 <= 0.5) # we can add quadratic constraints\n",
    "\n",
    "@NLconstraint(m3, x[2,1]^2 + x[2,2]^3 <= 1) # we can add non-linear constraints"
   ]
  },
  {
   "cell_type": "code",
   "execution_count": 64,
   "metadata": {},
   "outputs": [
    {
     "data": {
      "text/latex": [
       "$$ \\begin{aligned}\n",
       "\\min\\quad & x_{1,1}^2 + x_{1,2}^2 + x_{1,3}^2 + x_{1,4}^2 + x_{1,5}^2 + x_{1,6}^2 + x_{1,7}^2 + x_{2,1}^2 + x_{2,2}^2 + x_{2,3}^2 + x_{2,4}^2 + x_{2,5}^2 + x_{2,6}^2 + x_{2,7}^2 + x_{3,1}^2 + x_{3,2}^2 + x_{3,3}^2 + x_{3,4}^2 + x_{3,5}^2 + x_{3,6}^2 + x_{3,7}^2 + x_{4,1}^2 + x_{4,2}^2 + x_{4,3}^2 + x_{4,4}^2 + x_{4,5}^2 + x_{4,6}^2 + x_{4,7}^2 + x_{5,1}^2 + x_{5,2}^2 + x_{5,3}^2 + x_{5,4}^2 + x_{5,5}^2 + x_{5,6}^2 + x_{5,7}^2\\\\\n",
       "\\text{Subject to} \\quad & x_{1,1} + x_{2,1} + x_{3,1} + x_{4,1} + x_{5,1} = 1.0\\\\\n",
       " & x_{1,2} + x_{2,2} + x_{3,2} + x_{4,2} + x_{5,2} = 1.0\\\\\n",
       " & x_{1,3} + x_{2,3} + x_{3,3} + x_{4,3} + x_{5,3} = 1.0\\\\\n",
       " & x_{1,4} + x_{2,4} + x_{3,4} + x_{4,4} + x_{5,4} = 1.0\\\\\n",
       " & x_{1,5} + x_{2,5} + x_{3,5} + x_{4,5} + x_{5,5} = 1.0\\\\\n",
       " & x_{1,6} + x_{2,6} + x_{3,6} + x_{4,6} + x_{5,6} = 1.0\\\\\n",
       " & x_{1,7} + x_{2,7} + x_{3,7} + x_{4,7} + x_{5,7} = 1.0\\\\\n",
       " & x_{1,1}^2 + x_{1,2}^2 \\leq 0.5\\\\\n",
       " & (x_{2,1} ^ {2.0} + x_{2,2} ^ {3.0}) - 1.0 \\leq 0\\\\\n",
       "\\end{aligned} $$"
      ]
     },
     "metadata": {},
     "output_type": "display_data"
    }
   ],
   "source": [
    "print(m3)"
   ]
  },
  {
   "cell_type": "code",
   "execution_count": 65,
   "metadata": {},
   "outputs": [
    {
     "name": "stdout",
     "output_type": "stream",
     "text": [
      "\n",
      "******************************************************************************\n",
      "This program contains Ipopt, a library for large-scale nonlinear optimization.\n",
      " Ipopt is released as open source code under the Eclipse Public License (EPL).\n",
      "         For more information visit https://github.com/coin-or/Ipopt\n",
      "******************************************************************************\n",
      "\n",
      "This is Ipopt version 3.14.4, running with linear solver MUMPS 5.4.1.\n",
      "\n",
      "Number of nonzeros in equality constraint Jacobian...:       35\n",
      "Number of nonzeros in inequality constraint Jacobian.:        4\n",
      "Number of nonzeros in Lagrangian Hessian.............:       39\n",
      "\n",
      "Total number of variables............................:       35\n",
      "                     variables with only lower bounds:        0\n",
      "                variables with lower and upper bounds:        0\n",
      "                     variables with only upper bounds:        0\n",
      "Total number of equality constraints.................:        7\n",
      "Total number of inequality constraints...............:        2\n",
      "        inequality constraints with only lower bounds:        0\n",
      "   inequality constraints with lower and upper bounds:        0\n",
      "        inequality constraints with only upper bounds:        2\n",
      "\n",
      "iter    objective    inf_pr   inf_du lg(mu)  ||d||  lg(rg) alpha_du alpha_pr  ls\n",
      "   0  0.0000000e+00 1.00e+00 0.00e+00  -1.0 0.00e+00    -  0.00e+00 0.00e+00   0\n",
      "   1  1.4286265e+00 0.00e+00 2.45e-01  -1.7 2.50e-01    -  1.00e+00 1.00e+00h  1\n",
      "   2  1.4001084e+00 1.11e-16 8.39e-04  -1.7 8.25e-02    -  1.00e+00 1.00e+00h  1\n",
      "   3  1.4000006e+00 0.00e+00 5.07e-04  -3.8 1.60e-02    -  1.00e+00 1.00e+00h  1\n",
      "   4  1.4000000e+00 0.00e+00 2.05e-06  -5.7 5.17e-04    -  1.00e+00 1.00e+00h  1\n",
      "   5  1.4000000e+00 0.00e+00 2.44e-11  -8.6 1.94e-06    -  1.00e+00 1.00e+00h  1\n",
      "\n",
      "Number of Iterations....: 5\n",
      "\n",
      "                                   (scaled)                 (unscaled)\n",
      "Objective...............:   1.4000000000000006e+00    1.4000000000000006e+00\n",
      "Dual infeasibility......:   2.4407309506813135e-11    2.4407309506813135e-11\n",
      "Constraint violation....:   0.0000000000000000e+00    0.0000000000000000e+00\n",
      "Variable bound violation:   0.0000000000000000e+00    0.0000000000000000e+00\n",
      "Complementarity.........:   2.5186903098859290e-09    2.5186903098859290e-09\n",
      "Overall NLP error.......:   2.5186903098859290e-09    2.5186903098859290e-09\n",
      "\n",
      "\n",
      "Number of objective function evaluations             = 6\n",
      "Number of objective gradient evaluations             = 6\n",
      "Number of equality constraint evaluations            = 6\n",
      "Number of inequality constraint evaluations          = 6\n",
      "Number of equality constraint Jacobian evaluations   = 6\n",
      "Number of inequality constraint Jacobian evaluations = 6\n",
      "Number of Lagrangian Hessian evaluations             = 5\n",
      "Total seconds in IPOPT                               = 1.882\n",
      "\n",
      "EXIT: Optimal Solution Found.\n",
      "1.4000000000000006\n"
     ]
    }
   ],
   "source": [
    "optimize!(m3)\n",
    "println(objective_value(m3))"
   ]
  },
  {
   "cell_type": "code",
   "execution_count": 66,
   "metadata": {},
   "outputs": [
    {
     "data": {
      "text/plain": [
       "5×7 Matrix{Float64}:\n",
       " 0.2  0.2  0.2  0.2  0.2  0.2  0.2\n",
       " 0.2  0.2  0.2  0.2  0.2  0.2  0.2\n",
       " 0.2  0.2  0.2  0.2  0.2  0.2  0.2\n",
       " 0.2  0.2  0.2  0.2  0.2  0.2  0.2\n",
       " 0.2  0.2  0.2  0.2  0.2  0.2  0.2"
      ]
     },
     "execution_count": 66,
     "metadata": {},
     "output_type": "execute_result"
    }
   ],
   "source": [
    "value.(x)"
   ]
  },
  {
   "cell_type": "markdown",
   "metadata": {},
   "source": [
    "Tested Version :\n",
    "- JuMP 0.20 / Julia 1.5.2"
   ]
  }
 ],
 "metadata": {
  "@webio": {
   "lastCommId": null,
   "lastKernelId": null
  },
  "kernelspec": {
   "display_name": "Julia 1.7.2",
   "language": "julia",
   "name": "julia-1.7"
  },
  "language_info": {
   "file_extension": ".jl",
   "mimetype": "application/julia",
   "name": "julia",
   "version": "1.7.2"
  },
  "toc": {
   "base_numbering": 1,
   "nav_menu": {},
   "number_sections": true,
   "sideBar": true,
   "skip_h1_title": true,
   "title_cell": "Table of Contents",
   "title_sidebar": "Contents",
   "toc_cell": true,
   "toc_position": {},
   "toc_section_display": true,
   "toc_window_display": false
  }
 },
 "nbformat": 4,
 "nbformat_minor": 2
}
